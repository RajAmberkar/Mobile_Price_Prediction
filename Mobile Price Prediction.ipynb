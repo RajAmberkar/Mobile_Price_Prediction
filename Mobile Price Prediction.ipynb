{
 "cells": [
  {
   "cell_type": "markdown",
   "id": "43b449dd-e36f-4816-be02-2d9cb873df67",
   "metadata": {},
   "source": [
    "# Connecting to database"
   ]
  },
  {
   "cell_type": "code",
   "execution_count": null,
   "id": "733f115e-a5e8-4664-b7b4-9fe298d487a1",
   "metadata": {},
   "outputs": [],
   "source": [
    "import mysql.connector as connector"
   ]
  },
  {
   "cell_type": "code",
   "execution_count": 5,
   "id": "def29692-e22f-4647-ae57-2e26fb8475d7",
   "metadata": {},
   "outputs": [],
   "source": [
    "connection=connector.connect(user=\"admin1\",password=\"123456\")"
   ]
  },
  {
   "cell_type": "code",
   "execution_count": 6,
   "id": "16e3d688-9fed-4061-bcc0-124c75640218",
   "metadata": {},
   "outputs": [],
   "source": [
    "cursor=connection.cursor()"
   ]
  },
  {
   "cell_type": "code",
   "execution_count": 7,
   "id": "3a1e90a2-76e2-447e-af24-32bd4853b1dc",
   "metadata": {},
   "outputs": [],
   "source": [
    "use_db='''USE mg_schema'''"
   ]
  },
  {
   "cell_type": "code",
   "execution_count": 8,
   "id": "f31b11aa-5a6a-4521-9f4a-2dc195a5f0f6",
   "metadata": {},
   "outputs": [],
   "source": [
    "cursor.execute(use_db)"
   ]
  },
  {
   "cell_type": "markdown",
   "id": "19adfb37-c8c9-40bf-8a47-92fc80f9eecd",
   "metadata": {},
   "source": [
    "# Fetching data from server"
   ]
  },
  {
   "cell_type": "code",
   "execution_count": 9,
   "id": "203bbedf-872e-4fd2-94af-c29bf56fbd28",
   "metadata": {},
   "outputs": [],
   "source": [
    "select_query='''SELECT * FROM mobile_price'''"
   ]
  },
  {
   "cell_type": "code",
   "execution_count": 10,
   "id": "568dd269-9769-40ad-980b-fa3135c8728a",
   "metadata": {},
   "outputs": [],
   "source": [
    "cursor.execute(select_query)"
   ]
  },
  {
   "cell_type": "code",
   "execution_count": 11,
   "id": "6145a343-0056-498b-9c73-b47e71b9c01c",
   "metadata": {},
   "outputs": [
    {
     "data": {
      "text/plain": [
       "[('Rating', 4, None, None, None, None, 1, 0, 63),\n",
       " ('RAM', 4, None, None, None, None, 1, 0, 63),\n",
       " ('ROM', 4, None, None, None, None, 1, 0, 63),\n",
       " ('Mobile_size', 4, None, None, None, None, 1, 0, 63),\n",
       " ('Primary_cam', 4, None, None, None, None, 1, 0, 63),\n",
       " ('Selfie_cam', 4, None, None, None, None, 1, 0, 63),\n",
       " ('Battery_power', 4, None, None, None, None, 1, 0, 63),\n",
       " ('Price', 4, None, None, None, None, 1, 0, 63)]"
      ]
     },
     "execution_count": 11,
     "metadata": {},
     "output_type": "execute_result"
    }
   ],
   "source": [
    "cursor.description"
   ]
  },
  {
   "cell_type": "code",
   "execution_count": 13,
   "id": "bbc7ff0e-bfb6-4766-82f9-8670c6817ae8",
   "metadata": {},
   "outputs": [],
   "source": [
    "result=cursor.fetchall()"
   ]
  },
  {
   "cell_type": "markdown",
   "id": "62597d7d-fe78-4f1d-be79-099163e04569",
   "metadata": {},
   "source": [
    "# Importing Libraries"
   ]
  },
  {
   "cell_type": "code",
   "execution_count": 15,
   "id": "60b55802-5130-406d-b9c1-0c6810810826",
   "metadata": {},
   "outputs": [],
   "source": [
    "import numpy as np\n",
    "import pandas as pd\n",
    "import matplotlib.pyplot as plt\n",
    "import seaborn as sns\n",
    "from sklearn.ensemble import RandomForestRegressor\n",
    "from sklearn.ensemble import BaggingRegressor\n",
    "from sklearn.linear_model import LinearRegression\n",
    "from sklearn.neighbors import KNeighborsRegressor\n",
    "from sklearn.preprocessing import MinMaxScaler\n",
    "from sklearn.model_selection import train_test_split\n",
    "from sklearn.metrics import r2_score"
   ]
  },
  {
   "cell_type": "code",
   "execution_count": 19,
   "id": "00d10bef-7b08-4a91-91e9-6c705067b42b",
   "metadata": {},
   "outputs": [],
   "source": [
    "df=pd.DataFrame(result , columns=[column[0] for column in cursor.description])"
   ]
  },
  {
   "cell_type": "code",
   "execution_count": 20,
   "id": "c91c07ee-fd9a-477e-9fcb-a1f9fb382e12",
   "metadata": {},
   "outputs": [],
   "source": [
    "df1=df"
   ]
  },
  {
   "cell_type": "markdown",
   "id": "3ca83a2d-bb43-4ad3-a779-8c128fa05774",
   "metadata": {},
   "source": [
    "# Data Preprocessing"
   ]
  },
  {
   "cell_type": "code",
   "execution_count": 21,
   "id": "6da1a598-7e3e-476e-aa35-dd976e302426",
   "metadata": {},
   "outputs": [
    {
     "data": {
      "text/html": [
       "<div>\n",
       "<style scoped>\n",
       "    .dataframe tbody tr th:only-of-type {\n",
       "        vertical-align: middle;\n",
       "    }\n",
       "\n",
       "    .dataframe tbody tr th {\n",
       "        vertical-align: top;\n",
       "    }\n",
       "\n",
       "    .dataframe thead th {\n",
       "        text-align: right;\n",
       "    }\n",
       "</style>\n",
       "<table border=\"1\" class=\"dataframe\">\n",
       "  <thead>\n",
       "    <tr style=\"text-align: right;\">\n",
       "      <th></th>\n",
       "      <th>Rating</th>\n",
       "      <th>RAM</th>\n",
       "      <th>ROM</th>\n",
       "      <th>Mobile_size</th>\n",
       "      <th>Primary_cam</th>\n",
       "      <th>Selfie_cam</th>\n",
       "      <th>Battery_power</th>\n",
       "      <th>Price</th>\n",
       "    </tr>\n",
       "  </thead>\n",
       "  <tbody>\n",
       "    <tr>\n",
       "      <th>0</th>\n",
       "      <td>4.3</td>\n",
       "      <td>4.0</td>\n",
       "      <td>128.0</td>\n",
       "      <td>6.00</td>\n",
       "      <td>48.0</td>\n",
       "      <td>13.0</td>\n",
       "      <td>4000.0</td>\n",
       "      <td>24999.0</td>\n",
       "    </tr>\n",
       "    <tr>\n",
       "      <th>1</th>\n",
       "      <td>3.4</td>\n",
       "      <td>6.0</td>\n",
       "      <td>64.0</td>\n",
       "      <td>4.50</td>\n",
       "      <td>48.0</td>\n",
       "      <td>12.0</td>\n",
       "      <td>4000.0</td>\n",
       "      <td>15999.0</td>\n",
       "    </tr>\n",
       "    <tr>\n",
       "      <th>2</th>\n",
       "      <td>4.3</td>\n",
       "      <td>4.0</td>\n",
       "      <td>4.0</td>\n",
       "      <td>4.50</td>\n",
       "      <td>64.0</td>\n",
       "      <td>16.0</td>\n",
       "      <td>4000.0</td>\n",
       "      <td>15000.0</td>\n",
       "    </tr>\n",
       "    <tr>\n",
       "      <th>3</th>\n",
       "      <td>4.4</td>\n",
       "      <td>6.0</td>\n",
       "      <td>64.0</td>\n",
       "      <td>6.40</td>\n",
       "      <td>48.0</td>\n",
       "      <td>15.0</td>\n",
       "      <td>3800.0</td>\n",
       "      <td>18999.0</td>\n",
       "    </tr>\n",
       "    <tr>\n",
       "      <th>4</th>\n",
       "      <td>4.5</td>\n",
       "      <td>6.0</td>\n",
       "      <td>128.0</td>\n",
       "      <td>6.18</td>\n",
       "      <td>35.0</td>\n",
       "      <td>15.0</td>\n",
       "      <td>3800.0</td>\n",
       "      <td>18999.0</td>\n",
       "    </tr>\n",
       "  </tbody>\n",
       "</table>\n",
       "</div>"
      ],
      "text/plain": [
       "   Rating  RAM    ROM  Mobile_size  Primary_cam  Selfie_cam  Battery_power  \\\n",
       "0     4.3  4.0  128.0         6.00         48.0        13.0         4000.0   \n",
       "1     3.4  6.0   64.0         4.50         48.0        12.0         4000.0   \n",
       "2     4.3  4.0    4.0         4.50         64.0        16.0         4000.0   \n",
       "3     4.4  6.0   64.0         6.40         48.0        15.0         3800.0   \n",
       "4     4.5  6.0  128.0         6.18         35.0        15.0         3800.0   \n",
       "\n",
       "     Price  \n",
       "0  24999.0  \n",
       "1  15999.0  \n",
       "2  15000.0  \n",
       "3  18999.0  \n",
       "4  18999.0  "
      ]
     },
     "execution_count": 21,
     "metadata": {},
     "output_type": "execute_result"
    }
   ],
   "source": [
    "df.head()"
   ]
  },
  {
   "cell_type": "code",
   "execution_count": 22,
   "id": "788bc8b6-e63f-431d-9269-6aa35b90fa20",
   "metadata": {},
   "outputs": [
    {
     "data": {
      "text/plain": [
       "Rating           0\n",
       "RAM              0\n",
       "ROM              0\n",
       "Mobile_size      0\n",
       "Primary_cam      0\n",
       "Selfie_cam       0\n",
       "Battery_power    0\n",
       "Price            0\n",
       "dtype: int64"
      ]
     },
     "execution_count": 22,
     "metadata": {},
     "output_type": "execute_result"
    }
   ],
   "source": [
    "df.isna().sum()"
   ]
  },
  {
   "cell_type": "code",
   "execution_count": 23,
   "id": "6fff3da8-b351-4a21-84cf-d983a88c427c",
   "metadata": {},
   "outputs": [
    {
     "data": {
      "text/plain": [
       "0      False\n",
       "1      False\n",
       "2      False\n",
       "3      False\n",
       "4      False\n",
       "       ...  \n",
       "802    False\n",
       "803     True\n",
       "804     True\n",
       "805     True\n",
       "806    False\n",
       "Length: 807, dtype: bool"
      ]
     },
     "execution_count": 23,
     "metadata": {},
     "output_type": "execute_result"
    }
   ],
   "source": [
    "df.duplicated()"
   ]
  },
  {
   "cell_type": "code",
   "execution_count": 53,
   "id": "aef49f3c-2b97-45ee-ae7d-5c85f563d69c",
   "metadata": {},
   "outputs": [
    {
     "name": "stdout",
     "output_type": "stream",
     "text": [
      "<class 'pandas.core.frame.DataFrame'>\n",
      "RangeIndex: 807 entries, 0 to 806\n",
      "Data columns (total 8 columns):\n",
      " #   Column         Non-Null Count  Dtype  \n",
      "---  ------         --------------  -----  \n",
      " 0   Rating         807 non-null    float64\n",
      " 1   RAM            807 non-null    float64\n",
      " 2   ROM            807 non-null    float64\n",
      " 3   Mobile_size    807 non-null    float64\n",
      " 4   Primary_cam    807 non-null    float64\n",
      " 5   Selfie_cam     807 non-null    float64\n",
      " 6   Battery_power  807 non-null    float64\n",
      " 7   Price          807 non-null    float64\n",
      "dtypes: float64(8)\n",
      "memory usage: 50.6 KB\n"
     ]
    }
   ],
   "source": [
    "df.info()"
   ]
  },
  {
   "cell_type": "code",
   "execution_count": 54,
   "id": "f97d9dc9-d1d9-4c10-9fe4-810680df7730",
   "metadata": {},
   "outputs": [
    {
     "data": {
      "text/html": [
       "<div>\n",
       "<style scoped>\n",
       "    .dataframe tbody tr th:only-of-type {\n",
       "        vertical-align: middle;\n",
       "    }\n",
       "\n",
       "    .dataframe tbody tr th {\n",
       "        vertical-align: top;\n",
       "    }\n",
       "\n",
       "    .dataframe thead th {\n",
       "        text-align: right;\n",
       "    }\n",
       "</style>\n",
       "<table border=\"1\" class=\"dataframe\">\n",
       "  <thead>\n",
       "    <tr style=\"text-align: right;\">\n",
       "      <th></th>\n",
       "      <th>Rating</th>\n",
       "      <th>RAM</th>\n",
       "      <th>ROM</th>\n",
       "      <th>Mobile_size</th>\n",
       "      <th>Primary_cam</th>\n",
       "      <th>Selfie_cam</th>\n",
       "      <th>Battery_power</th>\n",
       "      <th>Price</th>\n",
       "    </tr>\n",
       "  </thead>\n",
       "  <tbody>\n",
       "    <tr>\n",
       "      <th>count</th>\n",
       "      <td>807.000000</td>\n",
       "      <td>807.000000</td>\n",
       "      <td>807.000000</td>\n",
       "      <td>807.000000</td>\n",
       "      <td>807.000000</td>\n",
       "      <td>807.000000</td>\n",
       "      <td>807.000000</td>\n",
       "      <td>807.000000</td>\n",
       "    </tr>\n",
       "    <tr>\n",
       "      <th>mean</th>\n",
       "      <td>4.112639</td>\n",
       "      <td>5.941760</td>\n",
       "      <td>64.390335</td>\n",
       "      <td>5.620660</td>\n",
       "      <td>47.821561</td>\n",
       "      <td>8.868649</td>\n",
       "      <td>3278.859975</td>\n",
       "      <td>14269.167286</td>\n",
       "    </tr>\n",
       "    <tr>\n",
       "      <th>std</th>\n",
       "      <td>0.367830</td>\n",
       "      <td>2.056359</td>\n",
       "      <td>53.868626</td>\n",
       "      <td>3.957409</td>\n",
       "      <td>11.155916</td>\n",
       "      <td>4.547254</td>\n",
       "      <td>937.628801</td>\n",
       "      <td>23092.739983</td>\n",
       "    </tr>\n",
       "    <tr>\n",
       "      <th>min</th>\n",
       "      <td>2.800000</td>\n",
       "      <td>0.000000</td>\n",
       "      <td>2.000000</td>\n",
       "      <td>2.000000</td>\n",
       "      <td>5.000000</td>\n",
       "      <td>0.000000</td>\n",
       "      <td>1020.000000</td>\n",
       "      <td>479.000000</td>\n",
       "    </tr>\n",
       "    <tr>\n",
       "      <th>25%</th>\n",
       "      <td>3.900000</td>\n",
       "      <td>6.000000</td>\n",
       "      <td>32.000000</td>\n",
       "      <td>4.500000</td>\n",
       "      <td>48.000000</td>\n",
       "      <td>8.000000</td>\n",
       "      <td>3000.000000</td>\n",
       "      <td>984.000000</td>\n",
       "    </tr>\n",
       "    <tr>\n",
       "      <th>50%</th>\n",
       "      <td>4.100000</td>\n",
       "      <td>6.000000</td>\n",
       "      <td>32.000000</td>\n",
       "      <td>4.770000</td>\n",
       "      <td>48.000000</td>\n",
       "      <td>8.000000</td>\n",
       "      <td>3000.000000</td>\n",
       "      <td>1699.000000</td>\n",
       "    </tr>\n",
       "    <tr>\n",
       "      <th>75%</th>\n",
       "      <td>4.400000</td>\n",
       "      <td>6.000000</td>\n",
       "      <td>64.000000</td>\n",
       "      <td>6.300000</td>\n",
       "      <td>48.000000</td>\n",
       "      <td>12.000000</td>\n",
       "      <td>3800.000000</td>\n",
       "      <td>18994.500000</td>\n",
       "    </tr>\n",
       "    <tr>\n",
       "      <th>max</th>\n",
       "      <td>4.800000</td>\n",
       "      <td>12.000000</td>\n",
       "      <td>256.000000</td>\n",
       "      <td>44.000000</td>\n",
       "      <td>64.000000</td>\n",
       "      <td>23.000000</td>\n",
       "      <td>6000.000000</td>\n",
       "      <td>153000.000000</td>\n",
       "    </tr>\n",
       "  </tbody>\n",
       "</table>\n",
       "</div>"
      ],
      "text/plain": [
       "           Rating         RAM         ROM  Mobile_size  Primary_cam  \\\n",
       "count  807.000000  807.000000  807.000000   807.000000   807.000000   \n",
       "mean     4.112639    5.941760   64.390335     5.620660    47.821561   \n",
       "std      0.367830    2.056359   53.868626     3.957409    11.155916   \n",
       "min      2.800000    0.000000    2.000000     2.000000     5.000000   \n",
       "25%      3.900000    6.000000   32.000000     4.500000    48.000000   \n",
       "50%      4.100000    6.000000   32.000000     4.770000    48.000000   \n",
       "75%      4.400000    6.000000   64.000000     6.300000    48.000000   \n",
       "max      4.800000   12.000000  256.000000    44.000000    64.000000   \n",
       "\n",
       "       Selfie_cam  Battery_power          Price  \n",
       "count  807.000000     807.000000     807.000000  \n",
       "mean     8.868649    3278.859975   14269.167286  \n",
       "std      4.547254     937.628801   23092.739983  \n",
       "min      0.000000    1020.000000     479.000000  \n",
       "25%      8.000000    3000.000000     984.000000  \n",
       "50%      8.000000    3000.000000    1699.000000  \n",
       "75%     12.000000    3800.000000   18994.500000  \n",
       "max     23.000000    6000.000000  153000.000000  "
      ]
     },
     "execution_count": 54,
     "metadata": {},
     "output_type": "execute_result"
    }
   ],
   "source": [
    "df.describe()"
   ]
  },
  {
   "cell_type": "code",
   "execution_count": 24,
   "id": "9ba8d923-6b22-4169-9def-ddd785a023e5",
   "metadata": {},
   "outputs": [],
   "source": [
    "scaler=MinMaxScaler()"
   ]
  },
  {
   "cell_type": "code",
   "execution_count": 27,
   "id": "5b982de6-cdc9-4549-be55-3ab5bf84c530",
   "metadata": {},
   "outputs": [],
   "source": [
    "X=df.drop(columns=[\"Rating\",\"Price\"], axis=1)"
   ]
  },
  {
   "cell_type": "code",
   "execution_count": 28,
   "id": "16f13935-5d5d-42ad-a06c-a2e8f733b3fc",
   "metadata": {},
   "outputs": [],
   "source": [
    "X1=df.drop(columns=[\"Rating\",\"Price\"])"
   ]
  },
  {
   "cell_type": "code",
   "execution_count": 29,
   "id": "59252595-cabf-475a-9404-de4048ada07e",
   "metadata": {},
   "outputs": [],
   "source": [
    "y=df[\"Price\"]"
   ]
  },
  {
   "cell_type": "code",
   "execution_count": 30,
   "id": "b6a041b4-2504-4ca9-9684-43788d08a8e8",
   "metadata": {},
   "outputs": [
    {
     "data": {
      "text/html": [
       "<div>\n",
       "<style scoped>\n",
       "    .dataframe tbody tr th:only-of-type {\n",
       "        vertical-align: middle;\n",
       "    }\n",
       "\n",
       "    .dataframe tbody tr th {\n",
       "        vertical-align: top;\n",
       "    }\n",
       "\n",
       "    .dataframe thead th {\n",
       "        text-align: right;\n",
       "    }\n",
       "</style>\n",
       "<table border=\"1\" class=\"dataframe\">\n",
       "  <thead>\n",
       "    <tr style=\"text-align: right;\">\n",
       "      <th></th>\n",
       "      <th>RAM</th>\n",
       "      <th>ROM</th>\n",
       "      <th>Mobile_size</th>\n",
       "      <th>Primary_cam</th>\n",
       "      <th>Selfie_cam</th>\n",
       "      <th>Battery_power</th>\n",
       "    </tr>\n",
       "  </thead>\n",
       "  <tbody>\n",
       "    <tr>\n",
       "      <th>0</th>\n",
       "      <td>4.0</td>\n",
       "      <td>128.0</td>\n",
       "      <td>6.00</td>\n",
       "      <td>48.0</td>\n",
       "      <td>13.0</td>\n",
       "      <td>4000.0</td>\n",
       "    </tr>\n",
       "    <tr>\n",
       "      <th>1</th>\n",
       "      <td>6.0</td>\n",
       "      <td>64.0</td>\n",
       "      <td>4.50</td>\n",
       "      <td>48.0</td>\n",
       "      <td>12.0</td>\n",
       "      <td>4000.0</td>\n",
       "    </tr>\n",
       "    <tr>\n",
       "      <th>2</th>\n",
       "      <td>4.0</td>\n",
       "      <td>4.0</td>\n",
       "      <td>4.50</td>\n",
       "      <td>64.0</td>\n",
       "      <td>16.0</td>\n",
       "      <td>4000.0</td>\n",
       "    </tr>\n",
       "    <tr>\n",
       "      <th>3</th>\n",
       "      <td>6.0</td>\n",
       "      <td>64.0</td>\n",
       "      <td>6.40</td>\n",
       "      <td>48.0</td>\n",
       "      <td>15.0</td>\n",
       "      <td>3800.0</td>\n",
       "    </tr>\n",
       "    <tr>\n",
       "      <th>4</th>\n",
       "      <td>6.0</td>\n",
       "      <td>128.0</td>\n",
       "      <td>6.18</td>\n",
       "      <td>35.0</td>\n",
       "      <td>15.0</td>\n",
       "      <td>3800.0</td>\n",
       "    </tr>\n",
       "    <tr>\n",
       "      <th>...</th>\n",
       "      <td>...</td>\n",
       "      <td>...</td>\n",
       "      <td>...</td>\n",
       "      <td>...</td>\n",
       "      <td>...</td>\n",
       "      <td>...</td>\n",
       "    </tr>\n",
       "    <tr>\n",
       "      <th>802</th>\n",
       "      <td>6.0</td>\n",
       "      <td>32.0</td>\n",
       "      <td>4.54</td>\n",
       "      <td>48.0</td>\n",
       "      <td>12.0</td>\n",
       "      <td>2800.0</td>\n",
       "    </tr>\n",
       "    <tr>\n",
       "      <th>803</th>\n",
       "      <td>8.0</td>\n",
       "      <td>64.0</td>\n",
       "      <td>4.54</td>\n",
       "      <td>64.0</td>\n",
       "      <td>8.0</td>\n",
       "      <td>2500.0</td>\n",
       "    </tr>\n",
       "    <tr>\n",
       "      <th>804</th>\n",
       "      <td>3.0</td>\n",
       "      <td>32.0</td>\n",
       "      <td>6.20</td>\n",
       "      <td>48.0</td>\n",
       "      <td>1.0</td>\n",
       "      <td>3800.0</td>\n",
       "    </tr>\n",
       "    <tr>\n",
       "      <th>805</th>\n",
       "      <td>10.0</td>\n",
       "      <td>32.0</td>\n",
       "      <td>4.50</td>\n",
       "      <td>64.0</td>\n",
       "      <td>8.0</td>\n",
       "      <td>3500.0</td>\n",
       "    </tr>\n",
       "    <tr>\n",
       "      <th>806</th>\n",
       "      <td>6.0</td>\n",
       "      <td>32.0</td>\n",
       "      <td>4.50</td>\n",
       "      <td>64.0</td>\n",
       "      <td>15.0</td>\n",
       "      <td>1050.0</td>\n",
       "    </tr>\n",
       "  </tbody>\n",
       "</table>\n",
       "<p>807 rows × 6 columns</p>\n",
       "</div>"
      ],
      "text/plain": [
       "      RAM    ROM  Mobile_size  Primary_cam  Selfie_cam  Battery_power\n",
       "0     4.0  128.0         6.00         48.0        13.0         4000.0\n",
       "1     6.0   64.0         4.50         48.0        12.0         4000.0\n",
       "2     4.0    4.0         4.50         64.0        16.0         4000.0\n",
       "3     6.0   64.0         6.40         48.0        15.0         3800.0\n",
       "4     6.0  128.0         6.18         35.0        15.0         3800.0\n",
       "..    ...    ...          ...          ...         ...            ...\n",
       "802   6.0   32.0         4.54         48.0        12.0         2800.0\n",
       "803   8.0   64.0         4.54         64.0         8.0         2500.0\n",
       "804   3.0   32.0         6.20         48.0         1.0         3800.0\n",
       "805  10.0   32.0         4.50         64.0         8.0         3500.0\n",
       "806   6.0   32.0         4.50         64.0        15.0         1050.0\n",
       "\n",
       "[807 rows x 6 columns]"
      ]
     },
     "execution_count": 30,
     "metadata": {},
     "output_type": "execute_result"
    }
   ],
   "source": [
    "X1"
   ]
  },
  {
   "cell_type": "code",
   "execution_count": 31,
   "id": "f9474629-2ba7-469a-b244-ca7b09509f27",
   "metadata": {},
   "outputs": [
    {
     "data": {
      "text/plain": [
       "0      24999.0\n",
       "1      15999.0\n",
       "2      15000.0\n",
       "3      18999.0\n",
       "4      18999.0\n",
       "        ...   \n",
       "802     1299.0\n",
       "803     1390.0\n",
       "804     9790.0\n",
       "805      799.0\n",
       "806      799.0\n",
       "Name: Price, Length: 807, dtype: float64"
      ]
     },
     "execution_count": 31,
     "metadata": {},
     "output_type": "execute_result"
    }
   ],
   "source": [
    "y"
   ]
  },
  {
   "cell_type": "code",
   "execution_count": 32,
   "id": "bd828f81-9f10-4e11-a9fd-7e7d6d1deda0",
   "metadata": {},
   "outputs": [
    {
     "data": {
      "text/plain": [
       "array([[0.33333333, 0.49606299, 0.0952381 , 0.72881356, 0.56521739,\n",
       "        0.59839357],\n",
       "       [0.5       , 0.24409449, 0.05952381, 0.72881356, 0.52173913,\n",
       "        0.59839357],\n",
       "       [0.33333333, 0.00787402, 0.05952381, 1.        , 0.69565217,\n",
       "        0.59839357],\n",
       "       ...,\n",
       "       [0.25      , 0.11811024, 0.1       , 0.72881356, 0.04347826,\n",
       "        0.55823293],\n",
       "       [0.83333333, 0.11811024, 0.05952381, 1.        , 0.34782609,\n",
       "        0.49799197],\n",
       "       [0.5       , 0.11811024, 0.05952381, 1.        , 0.65217391,\n",
       "        0.0060241 ]])"
      ]
     },
     "execution_count": 32,
     "metadata": {},
     "output_type": "execute_result"
    }
   ],
   "source": [
    "X=scaler.fit_transform(X)\n",
    "X"
   ]
  },
  {
   "cell_type": "code",
   "execution_count": 49,
   "id": "4ed4146a-0cef-40be-8eee-7495f1db432f",
   "metadata": {},
   "outputs": [
    {
     "data": {
      "text/plain": [
       "<Axes: ylabel='Price'>"
      ]
     },
     "execution_count": 49,
     "metadata": {},
     "output_type": "execute_result"
    },
    {
     "data": {
      "image/png": "[encoded data removed]",
      "text/plain": [
       "<Figure size 640x480 with 1 Axes>"
      ]
     },
     "metadata": {},
     "output_type": "display_data"
    }
   ],
   "source": [
    "sns.scatterplot(df[\"Price\"])"
   ]
  },
  {
   "cell_type": "code",
   "execution_count": 51,
   "id": "9bfb68e2-864e-4e43-a005-dd65ec9392b6",
   "metadata": {},
   "outputs": [
    {
     "data": {
      "text/plain": [
       "<Axes: ylabel='Price'>"
      ]
     },
     "execution_count": 51,
     "metadata": {},
     "output_type": "execute_result"
    },
    {
     "data": {
      "image/png": "[encoded data removed]",
      "text/plain": [
       "<Figure size 640x480 with 1 Axes>"
      ]
     },
     "metadata": {},
     "output_type": "display_data"
    }
   ],
   "source": [
    "sns.boxplot(df[\"Price\"])"
   ]
  },
  {
   "cell_type": "code",
   "execution_count": 52,
   "id": "cac87227-39b0-496d-8876-9800a1ed1311",
   "metadata": {},
   "outputs": [
    {
     "data": {
      "text/plain": [
       "<Axes: >"
      ]
     },
     "execution_count": 52,
     "metadata": {},
     "output_type": "execute_result"
    },
    {
     "data": {
      "image/png": "[encoded data removed]",
      "text/plain": [
       "<Figure size 640x480 with 2 Axes>"
      ]
     },
     "metadata": {},
     "output_type": "display_data"
    }
   ],
   "source": [
    "sns.heatmap(df.corr(),annot=True,cmap='YlGnBu')"
   ]
  },
  {
   "cell_type": "markdown",
   "id": "1e9bc8dc-2946-4dd4-b6b0-d9af02971abf",
   "metadata": {},
   "source": [
    "# Model Building"
   ]
  },
  {
   "cell_type": "code",
   "execution_count": 33,
   "id": "9c0025d9-7784-4023-8b76-031dac066a44",
   "metadata": {},
   "outputs": [],
   "source": [
    "X_test,X_train,y_test,y_train=train_test_split(X,y,test_size=0.2,random_state=42)\n",
    "X1_test,X1_train,y_test,y_train=train_test_split(X1,y,train_size=0.8,random_state=42)"
   ]
  },
  {
   "cell_type": "code",
   "execution_count": 36,
   "id": "947b6cdb-b599-458f-86b6-8e72377eb1d4",
   "metadata": {},
   "outputs": [],
   "source": [
    "rfr=RandomForestRegressor()"
   ]
  },
  {
   "cell_type": "code",
   "execution_count": 37,
   "id": "0fbba1a6-4b6c-4e1a-ae54-125f3537949b",
   "metadata": {},
   "outputs": [
    {
     "data": {
      "text/html": [
       "<style>#sk-container-id-1 {color: black;background-color: white;}#sk-container-id-1 pre{padding: 0;}#sk-container-id-1 div.sk-toggleable {background-color: white;}#sk-container-id-1 label.sk-toggleable__label {cursor: pointer;display: block;width: 100%;margin-bottom: 0;padding: 0.3em;box-sizing: border-box;text-align: center;}#sk-container-id-1 label.sk-toggleable__label-arrow:before {content: \"▸\";float: left;margin-right: 0.25em;color: #696969;}#sk-container-id-1 label.sk-toggleable__label-arrow:hover:before {color: black;}#sk-container-id-1 div.sk-estimator:hover label.sk-toggleable__label-arrow:before {color: black;}#sk-container-id-1 div.sk-toggleable__content {max-height: 0;max-width: 0;overflow: hidden;text-align: left;background-color: #f0f8ff;}#sk-container-id-1 div.sk-toggleable__content pre {margin: 0.2em;color: black;border-radius: 0.25em;background-color: #f0f8ff;}#sk-container-id-1 input.sk-toggleable__control:checked~div.sk-toggleable__content {max-height: 200px;max-width: 100%;overflow: auto;}#sk-container-id-1 input.sk-toggleable__control:checked~label.sk-toggleable__label-arrow:before {content: \"▾\";}#sk-container-id-1 div.sk-estimator input.sk-toggleable__control:checked~label.sk-toggleable__label {background-color: #d4ebff;}#sk-container-id-1 div.sk-label input.sk-toggleable__control:checked~label.sk-toggleable__label {background-color: #d4ebff;}#sk-container-id-1 input.sk-hidden--visually {border: 0;clip: rect(1px 1px 1px 1px);clip: rect(1px, 1px, 1px, 1px);height: 1px;margin: -1px;overflow: hidden;padding: 0;position: absolute;width: 1px;}#sk-container-id-1 div.sk-estimator {font-family: monospace;background-color: #f0f8ff;border: 1px dotted black;border-radius: 0.25em;box-sizing: border-box;margin-bottom: 0.5em;}#sk-container-id-1 div.sk-estimator:hover {background-color: #d4ebff;}#sk-container-id-1 div.sk-parallel-item::after {content: \"\";width: 100%;border-bottom: 1px solid gray;flex-grow: 1;}#sk-container-id-1 div.sk-label:hover label.sk-toggleable__label {background-color: #d4ebff;}#sk-container-id-1 div.sk-serial::before {content: \"\";position: absolute;border-left: 1px solid gray;box-sizing: border-box;top: 0;bottom: 0;left: 50%;z-index: 0;}#sk-container-id-1 div.sk-serial {display: flex;flex-direction: column;align-items: center;background-color: white;padding-right: 0.2em;padding-left: 0.2em;position: relative;}#sk-container-id-1 div.sk-item {position: relative;z-index: 1;}#sk-container-id-1 div.sk-parallel {display: flex;align-items: stretch;justify-content: center;background-color: white;position: relative;}#sk-container-id-1 div.sk-item::before, #sk-container-id-1 div.sk-parallel-item::before {content: \"\";position: absolute;border-left: 1px solid gray;box-sizing: border-box;top: 0;bottom: 0;left: 50%;z-index: -1;}#sk-container-id-1 div.sk-parallel-item {display: flex;flex-direction: column;z-index: 1;position: relative;background-color: white;}#sk-container-id-1 div.sk-parallel-item:first-child::after {align-self: flex-end;width: 50%;}#sk-container-id-1 div.sk-parallel-item:last-child::after {align-self: flex-start;width: 50%;}#sk-container-id-1 div.sk-parallel-item:only-child::after {width: 0;}#sk-container-id-1 div.sk-dashed-wrapped {border: 1px dashed gray;margin: 0 0.4em 0.5em 0.4em;box-sizing: border-box;padding-bottom: 0.4em;background-color: white;}#sk-container-id-1 div.sk-label label {font-family: monospace;font-weight: bold;display: inline-block;line-height: 1.2em;}#sk-container-id-1 div.sk-label-container {text-align: center;}#sk-container-id-1 div.sk-container {/* jupyter's `normalize.less` sets `[hidden] { display: none; }` but bootstrap.min.css set `[hidden] { display: none !important; }` so we also need the `!important` here to be able to override the default hidden behavior on the sphinx rendered scikit-learn.org. See: https://github.com/scikit-learn/scikit-learn/issues/21755 */display: inline-block !important;position: relative;}#sk-container-id-1 div.sk-text-repr-fallback {display: none;}</style><div id=\"sk-container-id-1\" class=\"sk-top-container\"><div class=\"sk-text-repr-fallback\"><pre>RandomForestRegressor()</pre><b>In a Jupyter environment, please rerun this cell to show the HTML representation or trust the notebook. <br />On GitHub, the HTML representation is unable to render, please try loading this page with nbviewer.org.</b></div><div class=\"sk-container\" hidden><div class=\"sk-item\"><div class=\"sk-estimator sk-toggleable\"><input class=\"sk-toggleable__control sk-hidden--visually\" id=\"sk-estimator-id-1\" type=\"checkbox\" checked><label for=\"sk-estimator-id-1\" class=\"sk-toggleable__label sk-toggleable__label-arrow\">RandomForestRegressor</label><div class=\"sk-toggleable__content\"><pre>RandomForestRegressor()</pre></div></div></div></div></div>"
      ],
      "text/plain": [
       "RandomForestRegressor()"
      ]
     },
     "execution_count": 37,
     "metadata": {},
     "output_type": "execute_result"
    }
   ],
   "source": [
    "rfr.fit(X1_train,y_train)"
   ]
  },
  {
   "cell_type": "code",
   "execution_count": 38,
   "id": "130e99b1-e5c7-4053-b709-7e9ba75c32a7",
   "metadata": {},
   "outputs": [],
   "source": [
    "y_pred=rfr.predict(X1_test)"
   ]
  },
  {
   "cell_type": "code",
   "execution_count": 39,
   "id": "32f0a0cc-86c4-4596-be99-dcb1ac93af49",
   "metadata": {},
   "outputs": [
    {
     "data": {
      "text/plain": [
       "0.7639003681245137"
      ]
     },
     "execution_count": 39,
     "metadata": {},
     "output_type": "execute_result"
    }
   ],
   "source": [
    "r2_score(y_test,y_pred)"
   ]
  },
  {
   "cell_type": "code",
   "execution_count": 40,
   "id": "6279e5f2-f0df-46f6-8bd9-b9c749f4130f",
   "metadata": {},
   "outputs": [
    {
     "data": {
      "text/plain": [
       "0.976701128167462"
      ]
     },
     "execution_count": 40,
     "metadata": {},
     "output_type": "execute_result"
    }
   ],
   "source": [
    "rfr.score(X1_train,y_train)"
   ]
  },
  {
   "cell_type": "code",
   "execution_count": 41,
   "id": "80ade5ac-6e2c-481e-8d49-ca58a50ed463",
   "metadata": {},
   "outputs": [
    {
     "data": {
      "text/plain": [
       "array([ 34595.4       ,   1382.16333333,    962.01666667,  19949.96666667,\n",
       "         1884.1       ,   1292.2       ,   1315.7       ,    849.7       ,\n",
       "         2773.8       , 101541.15      ,   1002.1       ,    677.27333333,\n",
       "        15944.3       ,   1906.        ,   1664.        ,  34595.4       ,\n",
       "         1810.8       ,  11918.4       ,  68764.46666667,  12467.63333333,\n",
       "          677.27333333,  37057.3       ,  30947.1       ,  20585.23333333,\n",
       "        17898.1       ,   2237.3       ,   6556.8       ,  14799.        ,\n",
       "          886.95      ,  20696.        ,   1682.62666667,  17595.85      ,\n",
       "          835.26666667,  68446.05      ,    886.95      ,  17022.125     ,\n",
       "        15516.1       ,  56834.55      ,   1340.6       ,    659.        ,\n",
       "         1382.16333333,  32650.7       ,  16526.4       ,  85678.8       ,\n",
       "         7042.61666667,   1382.16333333,  45965.66666667,  19543.4       ,\n",
       "         1277.88      ,  46958.4       ,  12082.6       ,  12082.6       ,\n",
       "         5462.5       ,   7937.        ,   1770.35      ,   1340.6       ,\n",
       "        40160.3       ,  19294.3       ,    816.8       ,  64397.2       ,\n",
       "        29756.3       ,  41492.75      ,  28228.2       ,   6680.6       ,\n",
       "         6556.8       ,  32196.3       ,  31090.9       ,   6556.8       ,\n",
       "        45965.66666667,  42698.1       ,    714.        ,    784.1       ,\n",
       "        18447.2       ,   1437.2       ,  16526.4       ,  22917.        ,\n",
       "         1978.1       ,   1434.4       ,  12136.86666667,    959.        ,\n",
       "         1442.1       ,    835.26666667,   6613.5       ,   1599.83333333,\n",
       "        30947.1       ,    961.4       ,  12081.5       ,    835.26666667,\n",
       "          961.4       ,   1182.5       ,   1246.6       ,    930.5       ,\n",
       "         6440.93333333,   9606.7       ,  15118.5       ,  16079.2       ,\n",
       "          864.3       ,   1906.        ,  35390.        ,  12440.        ,\n",
       "         1506.        ,  29848.        ,    767.1       ,  10385.4       ,\n",
       "        40356.4       ,   1382.16333333,  21645.4       ,    666.        ,\n",
       "        45965.66666667,   1034.4       ,  42597.5       ,   1340.6       ,\n",
       "         1379.        ,  14799.        ,   1014.1       ,   1524.8       ,\n",
       "          829.4       ,    886.95      ,  79260.95      ,  22799.5       ,\n",
       "         1486.55      ,    967.8       ,    764.56666667,  34790.        ,\n",
       "         2769.4       ,   1399.2       ,    677.27333333,    997.1       ,\n",
       "        61253.05      ,  40789.1       ,  14944.5       ,   2648.76      ,\n",
       "         1382.16333333,   1696.7       ,   1524.8       ,  34595.4       ,\n",
       "        67299.        ,   1514.6       ,  35390.        ,  30470.        ,\n",
       "        15516.1       ,   1507.22666667,  18213.7       ,   1301.43333333,\n",
       "          998.6       ,    835.26666667,  17515.4       ,   1340.6       ,\n",
       "          714.        ,  37148.15      ,   1254.88      ,   6890.1       ,\n",
       "        11162.4       ,  37890.        ,   6356.25      ,    677.27333333,\n",
       "          767.7       ,   6893.8       ,  17072.8       ,   6939.2       ,\n",
       "        57235.45      ,  18224.5       ,  19950.76666667,    666.        ,\n",
       "        34690.        ,  32650.7       ,  38251.75      ,   1458.18      ,\n",
       "        15929.93333333,  34595.4       ,   7015.4       ,    949.1       ,\n",
       "         1382.16333333,  21744.5       ,   1219.6       ,   1906.        ,\n",
       "        45965.66666667,   1422.1       ,  28228.2       ,  14944.5       ,\n",
       "         1906.        ,  75509.05      ,    659.        ,   1506.        ,\n",
       "         1524.8       ,   1696.26      ,   1382.16333333,   1024.46666667,\n",
       "        19294.3       ,   1894.        ,  10952.2       ,    677.27333333,\n",
       "         1693.33333333,   1254.88      ,    997.1       ,   2573.1       ,\n",
       "        39853.1       ,   1696.26      ,    695.        ,  12628.6       ,\n",
       "        40160.3       ,   1285.6       ,  28228.2       ,   1102.15      ,\n",
       "          835.26666667,    904.        ,  18999.        ,    677.27333333,\n",
       "        17854.3       ,   1701.        ,  10952.2       ,   1230.91333333,\n",
       "         1340.6       ,    767.1       ,   1422.1       ,  34296.2       ,\n",
       "        61253.05      ,   6981.4       ,  17893.1       ,   1315.7       ,\n",
       "         1379.        ,   1550.4       ,    677.27333333,    695.        ,\n",
       "         1894.        ,    749.1       ,   6680.6       ,  42698.1       ,\n",
       "          816.6       ,   1382.16333333,   1034.4       ,  16881.71666667,\n",
       "         1524.8       ,    997.1       ,  18447.2       ,   6981.4       ,\n",
       "        22917.        ,   2916.6       ,  10718.6       ,   1906.        ,\n",
       "         1906.        ,   2116.89333333,  21696.3       ,    840.4       ,\n",
       "        11033.875     ,  20547.65      ,    849.7       ,    784.1       ,\n",
       "          677.27333333,  19294.3       ,   1087.3       ,   6586.3       ,\n",
       "         1254.88      ,    677.27333333,   1313.16666667,  42698.1       ,\n",
       "         1120.8       ,  35397.4       ,   1449.85      ,  36652.65      ,\n",
       "         1675.1       ,    764.56666667,   2599.        ,  20298.1       ,\n",
       "         6613.5       ,  12864.2       ,   5640.05      , 101541.15      ,\n",
       "        17774.5       ,  35397.4       ,   1339.86666667,   1156.5       ,\n",
       "        17774.5       ,   2482.        ,  32196.3       , 101541.15      ,\n",
       "         6557.        ,   2738.1       ,   6979.6       ,  16949.8       ,\n",
       "        38669.5       ,    886.95      ,  10385.4       ,    826.05666667,\n",
       "         1379.        ,   3257.3       ,   1320.1       ,   2110.3       ,\n",
       "        22195.56666667,  15516.1       ,   1696.26      ,  33694.5       ,\n",
       "         1024.46666667,   6916.4       ,  16023.025     ,   1382.16333333,\n",
       "         1813.8       ,    749.1       ,  12063.6       ,   1884.1       ,\n",
       "         1399.2       ,   1486.55      ,   1057.98333333,  17898.1       ,\n",
       "          666.        ,    677.27333333,  61253.05      ,  34690.        ,\n",
       "          886.95      ,  20998.1       ,   6996.43      ,  10385.4       ,\n",
       "          891.46666667,  45297.2       ,   1906.        ,  55934.55      ,\n",
       "         1437.2       ,  11033.875     ,  17055.2       ,  46867.71666667,\n",
       "        22195.56666667,  67299.        ,  43947.15      ,   1332.4       ,\n",
       "        19950.76666667,    714.        ,   7207.        ,  41492.75      ,\n",
       "         2573.1       ,   1469.83333333,  11118.5       ,    677.27333333,\n",
       "         1038.3       ,  34690.        ,  10502.875     ,  35387.7       ,\n",
       "          904.        ,  57235.45      ,   1303.33333333,  34790.        ,\n",
       "         1382.16333333,    677.27333333,  34595.4       ,  34752.5       ,\n",
       "        22318.05      ,  69264.46666667,   9606.7       ,   1599.83333333,\n",
       "        22195.56666667,   1082.9       ,  29990.        ,   1203.9       ,\n",
       "         1332.4       ,   1254.88      ,  61253.05      ,   6981.4       ,\n",
       "          816.8       ,   1254.88      ,   9005.075     ,  32650.7       ,\n",
       "        16537.8       ,  29756.3       ,    961.4       ,  12082.6       ,\n",
       "         1813.8       ,  64397.2       ,   2606.2       ,   1810.8       ,\n",
       "         1886.69333333,  38669.5       ,   1102.15      ,  61253.05      ,\n",
       "         1382.16333333,   1382.16333333,    829.4       ,   1550.4       ,\n",
       "         2746.8       ,   7233.8       ,  40160.3       ,  45698.1       ,\n",
       "        35397.4       ,  16631.95      ,   3293.8       ,  17432.85      ,\n",
       "         6690.1       ,    933.6       ,  55934.55      ,   1217.3       ,\n",
       "         1463.4       ,   1552.5       ,   1340.6       ,    962.6       ,\n",
       "        53728.75      ,    959.        ,   1382.16333333,  16023.025     ,\n",
       "         1507.22666667,    864.3       ,   1068.48333333,  17266.25      ,\n",
       "        12658.3       ,  16296.2       ,  42698.1       ,   1894.        ,\n",
       "        18999.        ,  41187.4       ,  33694.5       ,  21696.3       ,\n",
       "        17595.85      ,    778.        ,  19560.1       ,  34595.4       ,\n",
       "          807.2       ,   1382.16333333,  11686.3       ,  31897.1       ,\n",
       "        38696.5       ,  37957.3       ,    677.27333333,   1340.6       ,\n",
       "         1382.16333333,  21744.5       ,   1906.        ,   6573.5       ,\n",
       "          853.8       ,  23982.7       ,  23320.4       ,   1906.        ,\n",
       "         1382.16333333,    821.6       ,   2648.76      ,   1810.8       ,\n",
       "          714.        ,    659.        ,   1188.9       ,   6893.8       ,\n",
       "          677.27333333,   1599.83333333,  10502.875     ,  16512.7       ,\n",
       "         1978.1       ,   1382.16333333,   1703.5       ,  17432.85      ,\n",
       "        16418.5       ,  38669.5       ,  42192.7       ,   6556.8       ,\n",
       "        45965.66666667,  40160.3       ,  67299.        ,  15944.3       ,\n",
       "         4209.8       ,    840.4       ,   1382.16333333,  15944.3       ,\n",
       "        13161.2       ,   1851.6       ,   1254.88      ,  37890.        ,\n",
       "         1475.1       ,   6556.8       ,   5640.05      ,  35799.        ,\n",
       "         1339.86666667,    992.1       ,   1434.4       ,   1057.98333333,\n",
       "        42192.7       ,  45965.66666667,   6356.25      ,  10782.7       ,\n",
       "         2738.1       ,  19685.23333333,  42192.7       ,   1675.2       ,\n",
       "        16418.5       ,   1619.2       ,  15944.3       ,   2648.76      ,\n",
       "          714.        ,   1675.1       ,   1813.8       ,  29848.        ,\n",
       "         1409.83333333,   1062.4       ,  16296.2       ,  31990.        ,\n",
       "         2746.8       ,  18834.5       ,   7265.8       ,  56834.55      ,\n",
       "         1478.2       ,   1434.4       ,    677.27333333,  56532.75      ,\n",
       "         1506.        ,  12358.9       ,   6991.8       ,   1509.15      ,\n",
       "        45965.66666667,  30470.        ,  56532.75      ,    835.26666667,\n",
       "        10952.2       ,  10718.6       ,  18993.2       ,  68446.05      ,\n",
       "        11033.875     ,   1884.1       ,   1422.1       ,  23320.4       ,\n",
       "          784.        ,    986.3       ,   1524.8       ,    907.2       ,\n",
       "        40194.5       ,  45965.66666667, 101541.15      ,  37148.15      ,\n",
       "        41243.6       ,  20233.975     ,  31090.9       ,  13623.65      ,\n",
       "          899.2       ,   2277.1       ,   1664.        ,  16085.8       ,\n",
       "         1024.46666667,   6996.43      ,  19246.7       ,    677.27333333,\n",
       "         1295.2       ,   2130.1       ,   6981.4       ,  18224.5       ,\n",
       "        18526.4       ,   2773.8       ,  17595.85      ,  17794.3       ,\n",
       "        16711.76666667,  34595.4       ,  17072.8       ,  34690.        ,\n",
       "        41492.75      ,   2746.8       ,   2746.8       ,  51578.6       ,\n",
       "        42192.7       ,   1906.        ,  45720.15      ,   1434.4       ,\n",
       "         1145.8       ,   1906.        ,  11604.3       ,  12658.3       ,\n",
       "         1972.3       ,   1057.98333333,  28228.2       ,  17187.03333333,\n",
       "         6680.6       ,  61253.05      ,  11033.875     ,    677.27333333,\n",
       "         1894.        ,   1721.6       ,    677.27333333,   1364.        ,\n",
       "         1188.9       ,    904.        ,  67299.        ,   1382.16333333,\n",
       "        16418.5       ,  30947.1       ,   2682.2       ,  11670.5       ,\n",
       "        33694.5       ,  37890.        ,   1230.91333333,   1382.16333333,\n",
       "          961.4       ,    835.26666667,   1599.83333333,   1696.26      ,\n",
       "          835.26666667,   1458.18      ,   1340.6       ,  45965.66666667,\n",
       "          677.27333333,   3257.3       ,  52078.6       ,  45965.66666667,\n",
       "         6893.8       , 101541.15      ,   1702.42666667,  35397.4       ,\n",
       "          714.        ,  14962.66666667,  15118.5       ,   2773.8       ,\n",
       "         1051.2       ,  14944.5       ,  33694.5       ,   1701.        ,\n",
       "          904.        ,   1524.8       ,  21645.4       ,   1024.46666667,\n",
       "         6890.1       ,   1087.3       ,  41243.6       ,  36652.65      ,\n",
       "        53728.75      ,  28544.5       ,    837.1       ,  33437.8       ,\n",
       "         1506.        ,    904.        ,  16296.2       ,    835.26666667,\n",
       "          886.95      ,  67299.        ,  20953.3       ,    660.6       ,\n",
       "        15118.5       ,  16418.5       ,    714.        ,   1038.3       ,\n",
       "        22195.56666667,  17072.8       ,   1016.2       ,   1313.16666667,\n",
       "         1382.16333333,  35390.        ,    904.        ,  40246.6       ,\n",
       "         1999.        ,  41440.9       ,   6981.4       ,   6556.8       ,\n",
       "        29608.        ,  34595.4       ,   1434.4       ,  45720.15      ,\n",
       "         1382.16333333])"
      ]
     },
     "execution_count": 41,
     "metadata": {},
     "output_type": "execute_result"
    }
   ],
   "source": [
    "bg=BaggingRegressor()\n",
    "bg.fit(X_train,y_train)\n",
    "y_p1=bg.predict(X_test)\n",
    "y_p1"
   ]
  },
  {
   "cell_type": "code",
   "execution_count": 42,
   "id": "e1eea216-83a8-48c9-ad4b-6620c3f43da4",
   "metadata": {},
   "outputs": [
    {
     "data": {
      "text/plain": [
       "0.7337193455402831"
      ]
     },
     "execution_count": 42,
     "metadata": {},
     "output_type": "execute_result"
    }
   ],
   "source": [
    "r2_score(y_test,y_p1)"
   ]
  },
  {
   "cell_type": "code",
   "execution_count": 43,
   "id": "7af282bd-6f5c-41e0-9d52-b34b70622373",
   "metadata": {},
   "outputs": [],
   "source": [
    "lr=LinearRegression()\n",
    "lr.fit(X_train,y_train)\n",
    "y_p2=lr.predict(X_test)"
   ]
  },
  {
   "cell_type": "code",
   "execution_count": 44,
   "id": "d85e4897-a3d1-43fa-ad5f-de984879b9f5",
   "metadata": {},
   "outputs": [
    {
     "data": {
      "text/plain": [
       "0.3289724601888865"
      ]
     },
     "execution_count": 44,
     "metadata": {},
     "output_type": "execute_result"
    }
   ],
   "source": [
    "r2_score(y_test,y_p2)"
   ]
  },
  {
   "cell_type": "code",
   "execution_count": 45,
   "id": "4dc37fb6-2d79-4956-94f2-92dbfe3f7218",
   "metadata": {},
   "outputs": [],
   "source": [
    "knn=KNeighborsRegressor()\n",
    "knn.fit(X_train,y_train)\n",
    "y_p3=knn.predict(X_test)"
   ]
  },
  {
   "cell_type": "code",
   "execution_count": 46,
   "id": "900ba4cc-7c35-498a-8bad-f3b82a2999b7",
   "metadata": {},
   "outputs": [
    {
     "data": {
      "text/plain": [
       "0.6322399878908327"
      ]
     },
     "execution_count": 46,
     "metadata": {},
     "output_type": "execute_result"
    }
   ],
   "source": [
    "r2_score(y_test,y_p3)"
   ]
  },
  {
   "cell_type": "code",
   "execution_count": 47,
   "id": "cf6c1fd3-0552-41e1-8000-40f3d51a5089",
   "metadata": {},
   "outputs": [],
   "source": [
    "import pickle"
   ]
  },
  {
   "cell_type": "code",
   "execution_count": 48,
   "id": "2a4cff13-20f6-4487-8b8c-8eb5dcf8493f",
   "metadata": {},
   "outputs": [],
   "source": [
    "pickle.dump(rfr,open(\"model.pkl\",\"wb\"))"
   ]
  },
  {
   "cell_type": "code",
   "execution_count": null,
   "id": "85bef7f1-4417-4c92-ace6-07367e18a14c",
   "metadata": {},
   "outputs": [],
   "source": []
  }
 ],
 "metadata": {
  "kernelspec": {
   "display_name": "Python 3 (ipykernel)",
   "language": "python",
   "name": "python3"
  },
  "language_info": {
   "codemirror_mode": {
    "name": "ipython",
    "version": 3
   },
   "file_extension": ".py",
   "mimetype": "text/x-python",
   "name": "python",
   "nbconvert_exporter": "python",
   "pygments_lexer": "ipython3",
   "version": "3.11.3"
  }
 },
 "nbformat": 4,
 "nbformat_minor": 5
}
